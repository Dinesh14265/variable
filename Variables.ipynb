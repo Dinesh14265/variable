{
 "cells": [
  {
   "cell_type": "code",
   "execution_count": 1,
   "id": "f7149c1f",
   "metadata": {},
   "outputs": [],
   "source": [
    "var= 11"
   ]
  },
  {
   "cell_type": "code",
   "execution_count": 5,
   "id": "7f95ad9b",
   "metadata": {},
   "outputs": [],
   "source": [
    "var= 5"
   ]
  },
  {
   "cell_type": "code",
   "execution_count": 6,
   "id": "ec2c281d",
   "metadata": {},
   "outputs": [
    {
     "name": "stdout",
     "output_type": "stream",
     "text": [
      "5\n"
     ]
    }
   ],
   "source": [
    "print(var)"
   ]
  },
  {
   "cell_type": "code",
   "execution_count": 7,
   "id": "35e9844d",
   "metadata": {},
   "outputs": [],
   "source": [
    "#take input from user and print the age and typecast it str"
   ]
  },
  {
   "cell_type": "code",
   "execution_count": 12,
   "id": "4ada135c",
   "metadata": {},
   "outputs": [
    {
     "name": "stdout",
     "output_type": "stream",
     "text": [
      "what is your age32\n"
     ]
    }
   ],
   "source": [
    "Age= input(\"what is your age\")"
   ]
  },
  {
   "cell_type": "code",
   "execution_count": 13,
   "id": "51882a75",
   "metadata": {},
   "outputs": [
    {
     "name": "stdout",
     "output_type": "stream",
     "text": [
      "age of customer32 years.\n"
     ]
    }
   ],
   "source": [
    "print(f'age of customer{Age} years.' )"
   ]
  },
  {
   "cell_type": "code",
   "execution_count": 14,
   "id": "21f90c7d",
   "metadata": {},
   "outputs": [],
   "source": [
    "#formated string"
   ]
  },
  {
   "cell_type": "code",
   "execution_count": 18,
   "id": "2c7546ec",
   "metadata": {},
   "outputs": [],
   "source": [
    "A= 10"
   ]
  },
  {
   "cell_type": "code",
   "execution_count": 19,
   "id": "ec8b31c3",
   "metadata": {},
   "outputs": [
    {
     "name": "stdout",
     "output_type": "stream",
     "text": [
      "The value of A is 10\n"
     ]
    }
   ],
   "source": [
    "print(f\"The value of A is {A}\")"
   ]
  },
  {
   "cell_type": "code",
   "execution_count": 20,
   "id": "e4b98c2b",
   "metadata": {},
   "outputs": [],
   "source": [
    "#create var with 4 & 8 value and swap the values"
   ]
  },
  {
   "cell_type": "code",
   "execution_count": 24,
   "id": "d02c3123",
   "metadata": {},
   "outputs": [
    {
     "name": "stdout",
     "output_type": "stream",
     "text": [
      "enter a number.4\n",
      "enter a number.8\n",
      "8 4\n"
     ]
    }
   ],
   "source": [
    "a=input(\"enter a number.\")\n",
    "b=input(\"enter a number.\")\n",
    "c=a\n",
    "a=b\n",
    "b=c\n",
    "print(a,b)"
   ]
  },
  {
   "cell_type": "code",
   "execution_count": 22,
   "id": "a4847706",
   "metadata": {},
   "outputs": [],
   "source": []
  },
  {
   "cell_type": "code",
   "execution_count": null,
   "id": "97380f09",
   "metadata": {},
   "outputs": [],
   "source": []
  }
 ],
 "metadata": {
  "kernelspec": {
   "display_name": "Python 3 (ipykernel)",
   "language": "python",
   "name": "python3"
  },
  "language_info": {
   "codemirror_mode": {
    "name": "ipython",
    "version": 3
   },
   "file_extension": ".py",
   "mimetype": "text/x-python",
   "name": "python",
   "nbconvert_exporter": "python",
   "pygments_lexer": "ipython3",
   "version": "3.9.13"
  }
 },
 "nbformat": 4,
 "nbformat_minor": 5
}
